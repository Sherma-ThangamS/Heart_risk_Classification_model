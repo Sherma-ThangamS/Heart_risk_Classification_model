{
 "cells": [
  {
   "cell_type": "code",
   "execution_count": 1,
   "metadata": {},
   "outputs": [],
   "source": [
    "import pandas as pd\n",
    "import numpy as np"
   ]
  },
  {
   "cell_type": "code",
   "execution_count": 2,
   "metadata": {},
   "outputs": [],
   "source": [
    "feature=pd.read_csv('heart.csv')\n",
    "labels=feature['target']\n",
    "feature=feature.drop('target',axis=1)"
   ]
  },
  {
   "cell_type": "code",
   "execution_count": 3,
   "metadata": {},
   "outputs": [],
   "source": [
    "# feature=np.array(feature)\n",
    "# labels=np.array(label)\n",
    "feature.shape\n",
    "features = (feature - feature.mean()) / feature.std()\n",
    "# label"
   ]
  },
  {
   "cell_type": "code",
   "execution_count": 4,
   "metadata": {},
   "outputs": [],
   "source": [
    "weights=np.zeros(feature.shape[1])\n",
    "bias=0\n",
    "learning_rate=0.01\n",
    "iteration=1000"
   ]
  },
  {
   "cell_type": "code",
   "execution_count": 5,
   "metadata": {},
   "outputs": [
    {
     "name": "stdout",
     "output_type": "stream",
     "text": [
      "Iteration 0: Loss = 0.04455445544554455\n"
     ]
    }
   ],
   "source": [
    "for i in range(iteration):\n",
    "    y=np.dot(features,weights)+bias\n",
    "    y_pred=1/(1+np.exp(-y))\n",
    "    loss=labels-y_pred\n",
    "    gradient=np.dot(features.T,loss)\n",
    "    weights=weights+learning_rate*gradient\n",
    "    bias=bias+ learning_rate*np.mean(loss)\n",
    "    if i % 1000 == 0:\n",
    "        print('Iteration {}: Loss = {}'.format(i, np.mean(loss)))"
   ]
  },
  {
   "cell_type": "code",
   "execution_count": 6,
   "metadata": {},
   "outputs": [
    {
     "name": "stdout",
     "output_type": "stream",
     "text": [
      "Accuracy: 84.82%\n"
     ]
    }
   ],
   "source": [
    "logits = np.dot(features, weights) + bias\n",
    "preds = 1 / (1 + np.exp(-logits))\n",
    "pred_labels = np.round(preds)\n",
    "\n",
    "# Compute the accuracy of the model\n",
    "accuracy = np.mean(pred_labels == labels)\n",
    "print('Accuracy: {:.2f}%'.format(accuracy * 100))"
   ]
  },
  {
   "cell_type": "code",
   "execution_count": 7,
   "metadata": {},
   "outputs": [],
   "source": [
    "import tensorflow as tf\n",
    "from tensorflow import keras \n",
    "from tensorflow.keras import layers"
   ]
  },
  {
   "cell_type": "code",
   "execution_count": 22,
   "metadata": {},
   "outputs": [
    {
     "name": "stdout",
     "output_type": "stream",
     "text": [
      "Epoch 1/20\n",
      "10/10 [==============================] - 1s 2ms/step - loss: 0.5503 - binary_accuracy: 0.7426\n",
      "Epoch 2/20\n",
      "10/10 [==============================] - 0s 3ms/step - loss: 0.3652 - binary_accuracy: 0.8449\n",
      "Epoch 3/20\n",
      "10/10 [==============================] - 0s 3ms/step - loss: 0.3215 - binary_accuracy: 0.8746\n",
      "Epoch 4/20\n",
      "10/10 [==============================] - 0s 3ms/step - loss: 0.2862 - binary_accuracy: 0.8812\n",
      "Epoch 5/20\n",
      "10/10 [==============================] - 0s 4ms/step - loss: 0.2615 - binary_accuracy: 0.8878\n",
      "Epoch 6/20\n",
      "10/10 [==============================] - 0s 3ms/step - loss: 0.2317 - binary_accuracy: 0.9241\n",
      "Epoch 7/20\n",
      "10/10 [==============================] - 0s 2ms/step - loss: 0.2169 - binary_accuracy: 0.9142\n",
      "Epoch 8/20\n",
      "10/10 [==============================] - 0s 3ms/step - loss: 0.1907 - binary_accuracy: 0.9373\n",
      "Epoch 9/20\n",
      "10/10 [==============================] - 0s 3ms/step - loss: 0.1670 - binary_accuracy: 0.9505\n",
      "Epoch 10/20\n",
      "10/10 [==============================] - 0s 4ms/step - loss: 0.1432 - binary_accuracy: 0.9604\n",
      "Epoch 11/20\n",
      "10/10 [==============================] - 0s 4ms/step - loss: 0.1215 - binary_accuracy: 0.9670\n",
      "Epoch 12/20\n",
      "10/10 [==============================] - 0s 3ms/step - loss: 0.1015 - binary_accuracy: 0.9802\n",
      "Epoch 13/20\n",
      "10/10 [==============================] - 0s 3ms/step - loss: 0.0891 - binary_accuracy: 0.9835\n",
      "Epoch 14/20\n",
      "10/10 [==============================] - 0s 3ms/step - loss: 0.0762 - binary_accuracy: 0.9769\n",
      "Epoch 15/20\n",
      "10/10 [==============================] - 0s 3ms/step - loss: 0.0569 - binary_accuracy: 0.9868\n",
      "Epoch 16/20\n",
      "10/10 [==============================] - 0s 6ms/step - loss: 0.0481 - binary_accuracy: 0.9934\n",
      "Epoch 17/20\n",
      "10/10 [==============================] - 0s 3ms/step - loss: 0.0383 - binary_accuracy: 0.9934\n",
      "Epoch 18/20\n",
      "10/10 [==============================] - 0s 3ms/step - loss: 0.0309 - binary_accuracy: 0.9934\n",
      "Epoch 19/20\n",
      "10/10 [==============================] - 0s 3ms/step - loss: 0.0226 - binary_accuracy: 0.9967\n",
      "Epoch 20/20\n",
      "10/10 [==============================] - 0s 3ms/step - loss: 0.0191 - binary_accuracy: 0.9934\n"
     ]
    }
   ],
   "source": [
    "model=keras.Sequential(\n",
    "    [layers.Dense(250,activation=\"relu\"),layers.Dense(250,activation=\"relu\"),layers.Dense(100,activation=\"relu\"),layers.Dense(1,activation=\"sigmoid\")]\n",
    "    )\n",
    "model.compile(\n",
    "    optimizer=keras.optimizers.Adam(),  # Optimizer\n",
    "    # Loss function to minimize\n",
    "    loss=keras.losses.BinaryCrossentropy(),\n",
    "    # List of metrics to monitor\n",
    "    metrics=[keras.metrics.BinaryAccuracy()],\n",
    ")\n",
    "\n",
    "x=np.array(features)\n",
    "y=np.array(labels)\n",
    "model=model.fit(x,y,epochs=20)\n"
   ]
  }
 ],
 "metadata": {
  "kernelspec": {
   "display_name": "Python 3",
   "language": "python",
   "name": "python3"
  },
  "language_info": {
   "codemirror_mode": {
    "name": "ipython",
    "version": 3
   },
   "file_extension": ".py",
   "mimetype": "text/x-python",
   "name": "python",
   "nbconvert_exporter": "python",
   "pygments_lexer": "ipython3",
   "version": "3.10.9"
  },
  "orig_nbformat": 4
 },
 "nbformat": 4,
 "nbformat_minor": 2
}
