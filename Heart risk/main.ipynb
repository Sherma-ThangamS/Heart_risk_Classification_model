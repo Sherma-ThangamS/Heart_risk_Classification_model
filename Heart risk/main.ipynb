{
 "cells": [
  {
   "cell_type": "code",
   "execution_count": 1,
   "metadata": {},
   "outputs": [],
   "source": [
    "import pandas as pd\n",
    "import numpy as np"
   ]
  },
  {
   "cell_type": "code",
   "execution_count": 2,
   "metadata": {},
   "outputs": [],
   "source": [
    "feature=pd.read_csv('heart.csv')\n",
    "labels=feature['target']\n",
    "feature=feature.drop('target',axis=1)"
   ]
  },
  {
   "cell_type": "code",
   "execution_count": 3,
   "metadata": {},
   "outputs": [],
   "source": [
    "# feature=np.array(feature)\n",
    "# labels=np.array(label)\n",
    "feature.shape\n",
    "features = (feature - feature.mean()) / feature.std()\n",
    "# label"
   ]
  },
  {
   "cell_type": "code",
   "execution_count": 4,
   "metadata": {},
   "outputs": [],
   "source": [
    "weights=np.zeros(feature.shape[1])\n",
    "bias=0\n",
    "learning_rate=0.01\n",
    "iteration=10000"
   ]
  },
  {
   "cell_type": "code",
   "execution_count": 5,
   "metadata": {},
   "outputs": [
    {
     "name": "stdout",
     "output_type": "stream",
     "text": [
      "Iteration 0: Loss = 0.04455445544554455\n",
      "Iteration 1000: Loss = 0.004272598592520888\n",
      "Iteration 2000: Loss = 0.00160133542242824\n",
      "Iteration 3000: Loss = 0.0005986717966869488\n",
      "Iteration 4000: Loss = 0.00022362803980472453\n",
      "Iteration 5000: Loss = 8.35085514769045e-05\n",
      "Iteration 6000: Loss = 3.118076580286384e-05\n",
      "Iteration 7000: Loss = 1.164191588701519e-05\n",
      "Iteration 8000: Loss = 4.346657045882821e-06\n",
      "Iteration 9000: Loss = 1.6228701457117967e-06\n"
     ]
    }
   ],
   "source": [
    "for i in range(iteration):\n",
    "    y=np.dot(features,weights)+bias\n",
    "    y_pred=1/(1+np.exp(-y))\n",
    "    loss=labels-y_pred\n",
    "    gradient=np.dot(features.T,loss)\n",
    "    weights=weights+learning_rate*gradient\n",
    "    bias=bias+ learning_rate*np.mean(loss)\n",
    "    if i % 1000 == 0:\n",
    "        print('Iteration {}: Loss = {}'.format(i, np.mean(loss)))"
   ]
  },
  {
   "cell_type": "code",
   "execution_count": 6,
   "metadata": {},
   "outputs": [
    {
     "name": "stdout",
     "output_type": "stream",
     "text": [
      "Accuracy: 85.15%\n"
     ]
    }
   ],
   "source": [
    "logits = np.dot(features, weights) + bias\n",
    "preds = 1 / (1 + np.exp(-logits))\n",
    "pred_labels = np.round(preds)\n",
    "\n",
    "# Compute the accuracy of the model\n",
    "accuracy = np.mean(pred_labels == labels)\n",
    "print('Accuracy: {:.2f}%'.format(accuracy * 100))"
   ]
  }
 ],
 "metadata": {
  "kernelspec": {
   "display_name": "Python 3",
   "language": "python",
   "name": "python3"
  },
  "language_info": {
   "codemirror_mode": {
    "name": "ipython",
    "version": 3
   },
   "file_extension": ".py",
   "mimetype": "text/x-python",
   "name": "python",
   "nbconvert_exporter": "python",
   "pygments_lexer": "ipython3",
   "version": "3.10.9"
  },
  "orig_nbformat": 4
 },
 "nbformat": 4,
 "nbformat_minor": 2
}
